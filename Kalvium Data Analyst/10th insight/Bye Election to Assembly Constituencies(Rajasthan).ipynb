{
 "cells": [
  {
   "cell_type": "code",
   "execution_count": 1,
   "id": "b75e1474",
   "metadata": {},
   "outputs": [
    {
     "name": "stdout",
     "output_type": "stream",
     "text": [
      "<!DOCTYPE html>\n",
      "<html lang=\"en\">\n",
      "<head>\n",
      "<!-- Required meta tags -->\n",
      "<meta charset=\"utf-8\"/>\n",
      "<meta content=\"width=device-width, initial-scale=1\" name=\"viewport\"/>\n",
      "<meta content=\"text/html; charset=utf-8\" http-equiv=\"Content-Type\"/>\n",
      "<meta content=\"IE=7\" http-equiv=\"X-UA-Compatible\"/>\n",
      "<meta content=\"no-cache, no-store, must-revalidate\" http-equiv=\"Cache-Control\"/>\n",
      "<meta content=\"no-cache\" http-equiv=\"Pragma\"/>\n",
      "<meta content=\"0\" http-equiv=\"Expires\"/>\n",
      "<meta content=\"300\" http-equiv=\"refresh\"/>\n",
      "<!-- Bootstrap CSS -->\n",
      "<link href=\"css/bootstrap.min.css\" rel=\"stylesheet\"/>\n",
      "<link href=\"css/custom.css\" rel=\"stylesheet\"/>\n",
      "<link href=\"css/responsive.css\" rel=\"stylesheet\"/>\n",
      "<link href=\"css/font.css\" rel=\"stylesheet\"/>\n",
      "<link href=\"img/icons/favicon.ico\" rel=\"shortcut icon\" type=\"image/x-icon\"/>\n",
      "<title>Election Commission of India</title>\n",
      "<script>!function(a){var e=\"https://s.go-mpulse.net/boomerang/\",t=\"addEventListener\";if(\"False\"==\"True\")a.BOOMR_config=a.BOOMR_config||{},a.BOOMR_config.PageParams=a.BOOMR_config.PageParams||{},a.BOOMR_config.PageParams.pci=!0,e=\"https://s2.go-mpulse.net/boomerang/\";if(window.BOOMR_API_key=\"C8JDA-BHWH8-9MQ5M-HKZCP-GH7SB\",function(){function n(e){a.BOOMR_onload=e&&e.timeStamp||(new Date).getTime()}if(!a.BOOMR||!a.BOOMR.version&&!a.BOOMR.snippetExecuted){a.BOOMR=a.BOOMR||{},a.BOOMR.snippetExecuted=!0;var i,_,o,r=document.createElement(\"iframe\");if(a[t])a[t](\"load\",n,!1);else if(a.attachEvent)a.attachEvent(\"onload\",n);r.src=\"javascript:void(0)\",r.title=\"\",r.role=\"presentation\",(r.frameElement||r).style.cssText=\"width:0;height:0;border:0;display:none;\",o=document.getElementsByTagName(\"script\")[0],o.parentNode.insertBefore(r,o);try{_=r.contentWindow.document}catch(O){i=document.domain,r.src=\"javascript:var d=document.open();d.domain='\"+i+\"';void(0);\",_=r.contentWindow.document}_.open()._l=function(){var a=this.createElement(\"script\");if(i)this.domain=i;a.id=\"boomr-if-as\",a.src=e+\"C8JDA-BHWH8-9MQ5M-HKZCP-GH7SB\",BOOMR_lstart=(new Date).getTime(),this.body.appendChild(a)},_.write(\"<bo\"+'dy onload=\"document._l();\">'),_.close()}}(),\"\".length>0)if(a&&\"performance\"in a&&a.performance&&\"function\"==typeof a.performance.setResourceTimingBufferSize)a.performance.setResourceTimingBufferSize();!function(){if(BOOMR=a.BOOMR||{},BOOMR.plugins=BOOMR.plugins||{},!BOOMR.plugins.AK){var e=\"\"==\"true\"?1:0,t=\"\",n=\"m7m62n5wckzvazubphrq-f-9ef8c1de8-clientnsv4-s.akamaihd.net\",i=\"false\"==\"true\"?2:1,_={\"ak.v\":\"37\",\"ak.cp\":\"1109753\",\"ak.ai\":parseInt(\"537121\",10),\"ak.ol\":\"0\",\"ak.cr\":46,\"ak.ipv\":4,\"ak.proto\":\"http/1.1\",\"ak.rid\":\"11d78eca\",\"ak.r\":19486,\"ak.a2\":e,\"ak.m\":\"b\",\"ak.n\":\"ff\",\"ak.bpcip\":\"103.217.237.0\",\"ak.cport\":13351,\"ak.gh\":\"182.18.179.76\",\"ak.quicv\":\"\",\"ak.tlsv\":\"tls1.3\",\"ak.0rtt\":\"\",\"ak.csrc\":\"-\",\"ak.acc\":\"reno\",\"ak.t\":\"1719761379\",\"ak.ak\":\"hOBiQwZUYzCg5VSAfCLimQ==lknp/rKGZ93JudlYpA/yF6vTMC6w2zuw8/5fxj7jpEbgNPVipf1+Y5NjLVgeWt94ozeLeh+JduHbJwL5vXjXqfZrNg5Q2I2BBm2+BVY5ApgkCEKE7tWnVfB12KReSE1iPqWNwk+z4EtCqBs50pLeknszhSNY+VIQL2/+P3Bypeu11Sba1x2ppQ6YxYPmmOHUf/YYW5dK8JEUFFr3Uj7GySLCAGybe0Nz/L+oah3zOBfk+/Uge4bb3V0UfpPVGGuCqtSEHjlAZh1fgMw38wMlsw4GIZz/W4dCIXQfqzQCkp97g8zcycRz//CizFY08HCdm06ZCuPn9bLZOLrGyRO2AWZ74Yf9AoEs0eWZn5+LGnkN66d4ivr8fGAq4Dsm7smNoIk8m4IGwFkeq93ml7DryGQszhhKsAXyzv3CBGOQtJU=\",\"ak.pv\":\"86\",\"ak.dpoabenc\":\"\",\"ak.tf\":i};if(\"\"!==t)_[\"ak.ruds\"]=t;var o={i:!1,av:function(e){var t=\"http.initiator\";if(e&&(!e[t]||\"spa_hard\"===e[t]))_[\"ak.feo\"]=void 0!==a.aFeoApplied?1:0,BOOMR.addVar(_)},rv:function(){var a=[\"ak.bpcip\",\"ak.cport\",\"ak.cr\",\"ak.csrc\",\"ak.gh\",\"ak.ipv\",\"ak.m\",\"ak.n\",\"ak.ol\",\"ak.proto\",\"ak.quicv\",\"ak.tlsv\",\"ak.0rtt\",\"ak.r\",\"ak.acc\",\"ak.t\",\"ak.tf\"];BOOMR.removeVar(a)}};BOOMR.plugins.AK={akVars:_,akDNSPreFetchDomain:n,init:function(){if(!o.i){var a=BOOMR.subscribe;a(\"before_beacon\",o.av,null,null),a(\"onbeacon\",o.rv,null,null),o.i=!0}return this},is_complete:function(){return!0}}}}()}(window);</script></head>\n",
      "<body>\n",
      "<header class=\"header\">\n",
      "<div class=\"logo-search\">\n",
      "<div class=\"logo\"><a href=\"index.htm\"><img alt=\"\" src=\"img/eci-logo.png\"/></a></div>\n",
      "<div class=\"lft-menu\">\n",
      "<ul>\n",
      "<li><a href=\"index.htm\"><span><img alt=\"\" src=\"img/icons/home.png\"/></span> Home</a></li>\n",
      "<li><a href=\"./hi/ConstituencywiseS20165.htm\">Hindi <span><img alt=\"\" src=\"img/icons/language.png\"/></span></a></li>\n",
      "<!--<li><a href='search.htm'>Search <span><img src='img/icons/search.png' alt=''></span></a></li>-->\n",
      "<li><a href=\"\" onclick=\"window.location.href=window.location.href\">Refresh <span><img alt=\"\" src=\"img/icons/refresh.png\"/></span></a></li>\n",
      "</ul>\n",
      "</div>\n",
      "</div>\n",
      "</header>\n",
      "<div class=\"dis-info\">\n",
      "<div class=\"container-fluid\">\n",
      "<div class=\"d-flex align-items-center\">\n",
      "<h6 class=\"mb-0 mx-2\">Disclaimer:</h6>\n",
      "<p class=\"mb-0\"> ECI is displaying the information as being filled in the system by the Returning Officers from their respective Counting Centres.The final data for each AC/PC will be shared in Form-20.</p>\n",
      "</div>\n",
      "</div>\n",
      "</div><!-- End of dis-info Div -->\n",
      "<main class=\"inner-content\">\n",
      "<div class=\"container-fluid\">\n",
      "<div class=\"page-title\">\n",
      "<h1>\n",
      "<div>Bye Election to Assembly Constituencies: Results June-2024 </div>\n",
      "</h1>\n",
      "<h2>Assembly Constituency <span> 165 - BAGIDORA <strong> (Rajasthan)</strong></span> </h2>\n",
      "</div>\n",
      "<!-- End of middle-head Div -->\n",
      "<div class=\"middle-head\">\n",
      "<div class=\"roundBtn\"> </div>\n",
      "<div class=\"round-status\">Status as on Round, <span>31</span>/31 </div>\n",
      "<div class=\"switch-list\">\n",
      "<ul>\n",
      "<li> <a href=\"RoundwiseS20165.htm?ac=165\"><img alt=\"\" src=\"img/icons/roundwise-35.png\" title=\"Round Wise EVM Votes\"/></a></li>\n",
      "<li><a href=\"candidateswise-S20165.htm\"><img alt=\"\" src=\"img/icons/user-ifo.png\" title=\"Constituency Wise Candidate View\"/></a></li>\n",
      "<li><a href=\"#\"><img alt=\"\" src=\"img/icons/tab-info.png\" title=\"Constituency Wise Table View\"/></a></li>\n",
      "</ul>\n",
      "</div>\n",
      "</div>\n",
      "<div class=\"custom-table\">\n",
      "<div class=\"table-responsive\">\n",
      "<table class=\"table table-striped table-bordered\">\n",
      "<thead>\n",
      "<tr>\n",
      "<th>S.N.</th>\n",
      "<th style=\"text-align: left;\">Candidate</th>\n",
      "<th style=\"text-align: left;\">Party</th>\n",
      "<th>EVM Votes </th>\n",
      "<th>Postal Votes</th>\n",
      "<th>Total Votes</th>\n",
      "<th>% of Votes</th>\n",
      "</tr>\n",
      "</thead>\n",
      "<tbody>\n",
      "<tr><td>1</td><td align=\"left\">KAPURSINGH</td><td align=\"left\">Indian National Congress</td><td>8881</td><td>23</td><td>8904</td><td>4.25</td></tr> <tr><td>2</td><td align=\"left\">SUBHASH TAMBOLIYA</td><td align=\"left\">Bharatiya Janata Party</td><td>70115</td><td>1024</td><td>71139</td><td>33.92</td></tr> <tr><td>3</td><td align=\"left\">JAIKRISHN PATEL</td><td align=\"left\">Bharat Adivasi Party</td><td>121423</td><td>1150</td><td>122573</td><td>58.45</td></tr> <tr><td>4</td><td align=\"left\">NOTA</td><td align=\"left\">None of the Above</td><td>7080</td><td>12</td><td>7092</td><td>3.38</td></tr>\n",
      "</tbody>\n",
      "<tfoot>\n",
      "<tr>\n",
      "<th></th>\n",
      "<th style=\"text-align: left;\">Total</th>\n",
      "<th> </th>\n",
      "<th>207499</th>\n",
      "<th>2209</th>\n",
      "<th>209708</th>\n",
      "<th></th>\n",
      "</tr>\n",
      "</tfoot>\n",
      "</table>\n",
      "</div>\n",
      "</div>\n",
      "</div><!-- End of container-fluid Div -->\n",
      "</main>\n",
      "<footer class=\"footer\">\n",
      "<div class=\"foot-info\">\n",
      "<div class=\"container-fluid\">\n",
      "<div class=\"row\">\n",
      "<div class=\"col-md-6 col-12\">\n",
      "<h6 class=\"mb-1\">Download Voter helpline app to see results on mobile</h6>\n",
      "<div class=\"sm-text\">Last Updated at 08:55 am On 05/06/2024</div>\n",
      "</div>\n",
      "<div class=\"col-md-6 col-12\">\n",
      "<ul class=\"d-flex align-items-center items-end\">\n",
      "<li><a href=\"https://play.google.com/store/apps/details?id=com.eci.citizen\" target=\"_blank\"><img alt=\"\" src=\"img/icons/android.png\"/></a></li>\n",
      "<li><a href=\"https://apps.apple.com/in/app/voter-helpline/id1456535004\" target=\"_blank\"><img alt=\"\" src=\"img/icons/apple.png\"/></a></li>\n",
      "</ul>\n",
      "</div>\n",
      "</div>\n",
      "</div>\n",
      "</div>\n",
      "</footer>\n",
      "<!-- Optional JavaScript; choose one of the two! -->\n",
      "<script src=\"js/jquery-3.6.0.min.js\" type=\"text/javascript\"></script>\n",
      "<!-- Option 1: Bootstrap Bundle with Popper -->\n",
      "<script src=\"js/bootstrap.bundle.min.js\" type=\"text/javascript\"></script>\n",
      "<!-- Option 3: Custom jQuery Lab -->\n",
      "<script src=\"js/custom-jQuery.js\" type=\"text/javascript\"></script>\n",
      "<script>\r\n",
      "    $(document).ready(function () {\r\n",
      "      // Event for pushed the video\r\n",
      "      $('#roundSlider').carousel({\r\n",
      "        pause: true,\r\n",
      "        interval: false\r\n",
      "      });\r\n",
      "    });\r\n",
      "  </script>\n",
      "</body>\n",
      "</html>\n"
     ]
    }
   ],
   "source": [
    "from bs4 import BeautifulSoup\n",
    "import requests\n",
    "url = 'https://results.eci.gov.in/AcResultByeJune2024/ConstituencywiseS20165.htm'\n",
    "\n",
    "page = requests.get(url)\n",
    "\n",
    "soup = BeautifulSoup(page.text, 'html')\n",
    "print(soup)"
   ]
  },
  {
   "cell_type": "code",
   "execution_count": 2,
   "id": "92778f88",
   "metadata": {},
   "outputs": [
    {
     "data": {
      "text/plain": [
       "<div class=\"page-title\">\n",
       "<h1>\n",
       "<div>Bye Election to Assembly Constituencies: Results June-2024 </div>\n",
       "</h1>\n",
       "<h2>Assembly Constituency <span> 165 - BAGIDORA <strong> (Rajasthan)</strong></span> </h2>\n",
       "</div>"
      ]
     },
     "execution_count": 2,
     "metadata": {},
     "output_type": "execute_result"
    }
   ],
   "source": [
    "soup.find('div', class_='page-title')"
   ]
  },
  {
   "cell_type": "code",
   "execution_count": 3,
   "id": "27ad80e1",
   "metadata": {},
   "outputs": [
    {
     "data": {
      "text/plain": [
       "<table class=\"table table-striped table-bordered\">\n",
       "<thead>\n",
       "<tr>\n",
       "<th>S.N.</th>\n",
       "<th style=\"text-align: left;\">Candidate</th>\n",
       "<th style=\"text-align: left;\">Party</th>\n",
       "<th>EVM Votes </th>\n",
       "<th>Postal Votes</th>\n",
       "<th>Total Votes</th>\n",
       "<th>% of Votes</th>\n",
       "</tr>\n",
       "</thead>\n",
       "<tbody>\n",
       "<tr><td>1</td><td align=\"left\">KAPURSINGH</td><td align=\"left\">Indian National Congress</td><td>8881</td><td>23</td><td>8904</td><td>4.25</td></tr> <tr><td>2</td><td align=\"left\">SUBHASH TAMBOLIYA</td><td align=\"left\">Bharatiya Janata Party</td><td>70115</td><td>1024</td><td>71139</td><td>33.92</td></tr> <tr><td>3</td><td align=\"left\">JAIKRISHN PATEL</td><td align=\"left\">Bharat Adivasi Party</td><td>121423</td><td>1150</td><td>122573</td><td>58.45</td></tr> <tr><td>4</td><td align=\"left\">NOTA</td><td align=\"left\">None of the Above</td><td>7080</td><td>12</td><td>7092</td><td>3.38</td></tr>\n",
       "</tbody>\n",
       "<tfoot>\n",
       "<tr>\n",
       "<th></th>\n",
       "<th style=\"text-align: left;\">Total</th>\n",
       "<th> </th>\n",
       "<th>207499</th>\n",
       "<th>2209</th>\n",
       "<th>209708</th>\n",
       "<th></th>\n",
       "</tr>\n",
       "</tfoot>\n",
       "</table>"
      ]
     },
     "execution_count": 3,
     "metadata": {},
     "output_type": "execute_result"
    }
   ],
   "source": [
    "soup.find('table', class_='table table-striped table-bordered')"
   ]
  },
  {
   "cell_type": "code",
   "execution_count": 4,
   "id": "f88406e9",
   "metadata": {},
   "outputs": [
    {
     "data": {
      "text/plain": [
       "[<th>S.N.</th>,\n",
       " <th style=\"text-align: left;\">Candidate</th>,\n",
       " <th style=\"text-align: left;\">Party</th>,\n",
       " <th>EVM Votes </th>,\n",
       " <th>Postal Votes</th>,\n",
       " <th>Total Votes</th>,\n",
       " <th>% of Votes</th>,\n",
       " <th></th>,\n",
       " <th style=\"text-align: left;\">Total</th>,\n",
       " <th> </th>,\n",
       " <th>207499</th>,\n",
       " <th>2209</th>,\n",
       " <th>209708</th>,\n",
       " <th></th>]"
      ]
     },
     "execution_count": 4,
     "metadata": {},
     "output_type": "execute_result"
    }
   ],
   "source": [
    "table_title = soup.find_all('th')\n",
    "table_title"
   ]
  },
  {
   "cell_type": "code",
   "execution_count": 5,
   "id": "27bbcdde",
   "metadata": {},
   "outputs": [
    {
     "name": "stdout",
     "output_type": "stream",
     "text": [
      "['S.N0.', 'Candidate', 'Party', 'EVM Votes', 'Postal Votes', 'Total Votes', '% of Votes']\n"
     ]
    }
   ],
   "source": [
    "Full_table_title = ['S.N0.', 'Candidate', 'Party', 'EVM Votes', 'Postal Votes', 'Total Votes', '% of Votes']\n",
    "\n",
    "# Elements to remove\n",
    "unwanted_elements = ['', 'Total', '137186', '621', '137807']\n",
    "\n",
    "# Filter out unwanted elements\n",
    "filtered_titles = [title for title in Full_table_title if title not in unwanted_elements]\n",
    "\n",
    "print(filtered_titles)"
   ]
  },
  {
   "cell_type": "code",
   "execution_count": 6,
   "id": "2e67bcf5",
   "metadata": {},
   "outputs": [],
   "source": [
    "import pandas as pd\n",
    "from bs4 import BeautifulSoup\n",
    "\n",
    "\n",
    "# Step 1: Define the filtered column titles\n",
    "Full_table_title = ['S.N.', 'Candidate', 'Party', 'EVM Votes', 'Postal Votes', 'Total Votes', '% of Votes']\n",
    "\n",
    "# Step 2: Create the DataFrame with the filtered column titles\n",
    "df = pd.DataFrame(columns=Full_table_title)\n",
    "\n",
    "# Step 3: Find all table rows\n",
    "column_data = soup.find_all('tr')\n",
    "\n",
    "# Step 4: Iterate over each row and extract data\n",
    "for row in column_data[1:]:  # Skipping the header row\n",
    "    row_data = row.find_all('td')\n",
    "    individual_row_data = [data.text.strip() for data in row_data]\n",
    "\n",
    "    # Ensure the row has the correct number of elements before appending\n",
    "    if len(individual_row_data) == len(Full_table_title):\n",
    "        df.loc[len(df)] = individual_row_data\n"
   ]
  },
  {
   "cell_type": "code",
   "execution_count": 7,
   "id": "21496c6f",
   "metadata": {},
   "outputs": [
    {
     "data": {
      "text/html": [
       "<div>\n",
       "<style scoped>\n",
       "    .dataframe tbody tr th:only-of-type {\n",
       "        vertical-align: middle;\n",
       "    }\n",
       "\n",
       "    .dataframe tbody tr th {\n",
       "        vertical-align: top;\n",
       "    }\n",
       "\n",
       "    .dataframe thead th {\n",
       "        text-align: right;\n",
       "    }\n",
       "</style>\n",
       "<table border=\"1\" class=\"dataframe\">\n",
       "  <thead>\n",
       "    <tr style=\"text-align: right;\">\n",
       "      <th></th>\n",
       "      <th>S.N.</th>\n",
       "      <th>Candidate</th>\n",
       "      <th>Party</th>\n",
       "      <th>EVM Votes</th>\n",
       "      <th>Postal Votes</th>\n",
       "      <th>Total Votes</th>\n",
       "      <th>% of Votes</th>\n",
       "    </tr>\n",
       "  </thead>\n",
       "  <tbody>\n",
       "    <tr>\n",
       "      <th>0</th>\n",
       "      <td>1</td>\n",
       "      <td>KAPURSINGH</td>\n",
       "      <td>Indian National Congress</td>\n",
       "      <td>8881</td>\n",
       "      <td>23</td>\n",
       "      <td>8904</td>\n",
       "      <td>4.25</td>\n",
       "    </tr>\n",
       "    <tr>\n",
       "      <th>1</th>\n",
       "      <td>2</td>\n",
       "      <td>SUBHASH TAMBOLIYA</td>\n",
       "      <td>Bharatiya Janata Party</td>\n",
       "      <td>70115</td>\n",
       "      <td>1024</td>\n",
       "      <td>71139</td>\n",
       "      <td>33.92</td>\n",
       "    </tr>\n",
       "    <tr>\n",
       "      <th>2</th>\n",
       "      <td>3</td>\n",
       "      <td>JAIKRISHN PATEL</td>\n",
       "      <td>Bharat Adivasi Party</td>\n",
       "      <td>121423</td>\n",
       "      <td>1150</td>\n",
       "      <td>122573</td>\n",
       "      <td>58.45</td>\n",
       "    </tr>\n",
       "    <tr>\n",
       "      <th>3</th>\n",
       "      <td>4</td>\n",
       "      <td>NOTA</td>\n",
       "      <td>None of the Above</td>\n",
       "      <td>7080</td>\n",
       "      <td>12</td>\n",
       "      <td>7092</td>\n",
       "      <td>3.38</td>\n",
       "    </tr>\n",
       "  </tbody>\n",
       "</table>\n",
       "</div>"
      ],
      "text/plain": [
       "  S.N.          Candidate                     Party EVM Votes Postal Votes  \\\n",
       "0    1         KAPURSINGH  Indian National Congress      8881           23   \n",
       "1    2  SUBHASH TAMBOLIYA    Bharatiya Janata Party     70115         1024   \n",
       "2    3    JAIKRISHN PATEL      Bharat Adivasi Party    121423         1150   \n",
       "3    4               NOTA         None of the Above      7080           12   \n",
       "\n",
       "  Total Votes % of Votes  \n",
       "0        8904       4.25  \n",
       "1       71139      33.92  \n",
       "2      122573      58.45  \n",
       "3        7092       3.38  "
      ]
     },
     "execution_count": 7,
     "metadata": {},
     "output_type": "execute_result"
    }
   ],
   "source": [
    "df"
   ]
  },
  {
   "cell_type": "code",
   "execution_count": 8,
   "id": "3f6082ee",
   "metadata": {},
   "outputs": [],
   "source": [
    "df.to_csv('Rajasthan.csv', index=False)"
   ]
  },
  {
   "cell_type": "code",
   "execution_count": null,
   "id": "6105a7aa",
   "metadata": {},
   "outputs": [],
   "source": []
  }
 ],
 "metadata": {
  "kernelspec": {
   "display_name": "Python 3 (ipykernel)",
   "language": "python",
   "name": "python3"
  },
  "language_info": {
   "codemirror_mode": {
    "name": "ipython",
    "version": 3
   },
   "file_extension": ".py",
   "mimetype": "text/x-python",
   "name": "python",
   "nbconvert_exporter": "python",
   "pygments_lexer": "ipython3",
   "version": "3.9.12"
  }
 },
 "nbformat": 4,
 "nbformat_minor": 5
}
