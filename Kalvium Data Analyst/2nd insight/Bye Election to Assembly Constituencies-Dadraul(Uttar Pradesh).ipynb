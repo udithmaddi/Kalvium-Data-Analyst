{
 "cells": [
  {
   "cell_type": "code",
   "execution_count": 1,
   "id": "7efb08c9",
   "metadata": {},
   "outputs": [
    {
     "name": "stdout",
     "output_type": "stream",
     "text": [
      "<!DOCTYPE html>\n",
      "<html lang=\"en\">\n",
      "<head>\n",
      "<!-- Required meta tags -->\n",
      "<meta charset=\"utf-8\"/>\n",
      "<meta content=\"width=device-width, initial-scale=1\" name=\"viewport\"/>\n",
      "<meta content=\"text/html; charset=utf-8\" http-equiv=\"Content-Type\"/>\n",
      "<meta content=\"IE=7\" http-equiv=\"X-UA-Compatible\"/>\n",
      "<meta content=\"no-cache, no-store, must-revalidate\" http-equiv=\"Cache-Control\"/>\n",
      "<meta content=\"no-cache\" http-equiv=\"Pragma\"/>\n",
      "<meta content=\"0\" http-equiv=\"Expires\"/>\n",
      "<meta content=\"300\" http-equiv=\"refresh\"/>\n",
      "<!-- Bootstrap CSS -->\n",
      "<link href=\"css/bootstrap.min.css\" rel=\"stylesheet\"/>\n",
      "<link href=\"css/custom.css\" rel=\"stylesheet\"/>\n",
      "<link href=\"css/responsive.css\" rel=\"stylesheet\"/>\n",
      "<link href=\"css/font.css\" rel=\"stylesheet\"/>\n",
      "<link href=\"img/icons/favicon.ico\" rel=\"shortcut icon\" type=\"image/x-icon\"/>\n",
      "<title>Election Commission of India</title>\n",
      "<script>!function(a){var e=\"https://s.go-mpulse.net/boomerang/\",t=\"addEventListener\";if(\"False\"==\"True\")a.BOOMR_config=a.BOOMR_config||{},a.BOOMR_config.PageParams=a.BOOMR_config.PageParams||{},a.BOOMR_config.PageParams.pci=!0,e=\"https://s2.go-mpulse.net/boomerang/\";if(window.BOOMR_API_key=\"C8JDA-BHWH8-9MQ5M-HKZCP-GH7SB\",function(){function n(e){a.BOOMR_onload=e&&e.timeStamp||(new Date).getTime()}if(!a.BOOMR||!a.BOOMR.version&&!a.BOOMR.snippetExecuted){a.BOOMR=a.BOOMR||{},a.BOOMR.snippetExecuted=!0;var i,_,o,r=document.createElement(\"iframe\");if(a[t])a[t](\"load\",n,!1);else if(a.attachEvent)a.attachEvent(\"onload\",n);r.src=\"javascript:void(0)\",r.title=\"\",r.role=\"presentation\",(r.frameElement||r).style.cssText=\"width:0;height:0;border:0;display:none;\",o=document.getElementsByTagName(\"script\")[0],o.parentNode.insertBefore(r,o);try{_=r.contentWindow.document}catch(O){i=document.domain,r.src=\"javascript:var d=document.open();d.domain='\"+i+\"';void(0);\",_=r.contentWindow.document}_.open()._l=function(){var a=this.createElement(\"script\");if(i)this.domain=i;a.id=\"boomr-if-as\",a.src=e+\"C8JDA-BHWH8-9MQ5M-HKZCP-GH7SB\",BOOMR_lstart=(new Date).getTime(),this.body.appendChild(a)},_.write(\"<bo\"+'dy onload=\"document._l();\">'),_.close()}}(),\"\".length>0)if(a&&\"performance\"in a&&a.performance&&\"function\"==typeof a.performance.setResourceTimingBufferSize)a.performance.setResourceTimingBufferSize();!function(){if(BOOMR=a.BOOMR||{},BOOMR.plugins=BOOMR.plugins||{},!BOOMR.plugins.AK){var e=\"\"==\"true\"?1:0,t=\"\",n=\"opy4crrrftbjszubpwjq-f-d82977bac-clientnsv4-s.akamaihd.net\",i=\"false\"==\"true\"?2:1,_={\"ak.v\":\"37\",\"ak.cp\":\"1109753\",\"ak.ai\":parseInt(\"537121\",10),\"ak.ol\":\"0\",\"ak.cr\":66,\"ak.ipv\":4,\"ak.proto\":\"http/1.1\",\"ak.rid\":\"f02b99b\",\"ak.r\":33499,\"ak.a2\":e,\"ak.m\":\"b\",\"ak.n\":\"ff\",\"ak.bpcip\":\"115.241.193.0\",\"ak.cport\":21710,\"ak.gh\":\"49.44.194.149\",\"ak.quicv\":\"\",\"ak.tlsv\":\"tls1.3\",\"ak.0rtt\":\"\",\"ak.csrc\":\"-\",\"ak.acc\":\"reno\",\"ak.t\":\"1719762323\",\"ak.ak\":\"hOBiQwZUYzCg5VSAfCLimQ==c9zWigq0h5dwrRiKrDpL13ub5GI+aDXZ2ruyJdhIm5Q09rsYZvWUVquziPGdER35B/3qOLyyrpexFKjUsgJADUpBCvDE+QQWSpk3qjJcvFF6ziI24khrxzfeZyIQ/XUnycsbWIYGJZakZRzFeQLy8YjNAP1dbYHYnAjufp1oLv5GXGMvd8esT/RBeTRhUTm/SruAU5ccjZxeUVju/FciFAxGABNOnpLTJ1cvXQ1RC7+npdfoFJvh2KpV6x4XPZGKy3PjBqmxYHwM2v21ByFdMAzr0kz3a37yEB0JxlNhNqPHxhtlw957TtP9SsPrt/CoX4WTQQ2iioDFJ0uwS+vll3xSmDlb7Rry86H9AkNbju0OBZW1zZOLkhot4exGaOuRyVxMjvKj9EfxJsYVHI0/wqeQjOkyWa22Phb3IMBH73Q=\",\"ak.pv\":\"86\",\"ak.dpoabenc\":\"\",\"ak.tf\":i};if(\"\"!==t)_[\"ak.ruds\"]=t;var o={i:!1,av:function(e){var t=\"http.initiator\";if(e&&(!e[t]||\"spa_hard\"===e[t]))_[\"ak.feo\"]=void 0!==a.aFeoApplied?1:0,BOOMR.addVar(_)},rv:function(){var a=[\"ak.bpcip\",\"ak.cport\",\"ak.cr\",\"ak.csrc\",\"ak.gh\",\"ak.ipv\",\"ak.m\",\"ak.n\",\"ak.ol\",\"ak.proto\",\"ak.quicv\",\"ak.tlsv\",\"ak.0rtt\",\"ak.r\",\"ak.acc\",\"ak.t\",\"ak.tf\"];BOOMR.removeVar(a)}};BOOMR.plugins.AK={akVars:_,akDNSPreFetchDomain:n,init:function(){if(!o.i){var a=BOOMR.subscribe;a(\"before_beacon\",o.av,null,null),a(\"onbeacon\",o.rv,null,null),o.i=!0}return this},is_complete:function(){return!0}}}}()}(window);</script></head>\n",
      "<body>\n",
      "<header class=\"header\">\n",
      "<div class=\"logo-search\">\n",
      "<div class=\"logo\"><a href=\"index.htm\"><img alt=\"\" src=\"img/eci-logo.png\"/></a></div>\n",
      "<div class=\"lft-menu\">\n",
      "<ul>\n",
      "<li><a href=\"index.htm\"><span><img alt=\"\" src=\"img/icons/home.png\"/></span> Home</a></li>\n",
      "<li><a href=\"./hi/ConstituencywiseS24136.htm\">Hindi <span><img alt=\"\" src=\"img/icons/language.png\"/></span></a></li>\n",
      "<!--<li><a href='search.htm'>Search <span><img src='img/icons/search.png' alt=''></span></a></li>-->\n",
      "<li><a href=\"\" onclick=\"window.location.href=window.location.href\">Refresh <span><img alt=\"\" src=\"img/icons/refresh.png\"/></span></a></li>\n",
      "</ul>\n",
      "</div>\n",
      "</div>\n",
      "</header>\n",
      "<div class=\"dis-info\">\n",
      "<div class=\"container-fluid\">\n",
      "<div class=\"d-flex align-items-center\">\n",
      "<h6 class=\"mb-0 mx-2\">Disclaimer:</h6>\n",
      "<p class=\"mb-0\"> ECI is displaying the information as being filled in the system by the Returning Officers from their respective Counting Centres.The final data for each AC/PC will be shared in Form-20.</p>\n",
      "</div>\n",
      "</div>\n",
      "</div><!-- End of dis-info Div -->\n",
      "<main class=\"inner-content\">\n",
      "<div class=\"container-fluid\">\n",
      "<div class=\"page-title\">\n",
      "<h1>\n",
      "<div>Bye Election to Assembly Constituencies: Results June-2024 </div>\n",
      "</h1>\n",
      "<h2>Assembly Constituency <span> 136 - Dadraul<strong> (Uttar Pradesh)</strong></span> </h2>\n",
      "</div>\n",
      "<!-- End of middle-head Div -->\n",
      "<div class=\"middle-head\">\n",
      "<div class=\"roundBtn\"> </div>\n",
      "<div class=\"round-status\">Status as on Round, <span>33</span>/33 </div>\n",
      "<div class=\"switch-list\">\n",
      "<ul>\n",
      "<li> <a href=\"RoundwiseS24136.htm?ac=136\"><img alt=\"\" src=\"img/icons/roundwise-35.png\" title=\"Round Wise EVM Votes\"/></a></li>\n",
      "<li><a href=\"candidateswise-S24136.htm\"><img alt=\"\" src=\"img/icons/user-ifo.png\" title=\"Constituency Wise Candidate View\"/></a></li>\n",
      "<li><a href=\"#\"><img alt=\"\" src=\"img/icons/tab-info.png\" title=\"Constituency Wise Table View\"/></a></li>\n",
      "</ul>\n",
      "</div>\n",
      "</div>\n",
      "<div class=\"custom-table\">\n",
      "<div class=\"table-responsive\">\n",
      "<table class=\"table table-striped table-bordered\">\n",
      "<thead>\n",
      "<tr>\n",
      "<th>S.N.</th>\n",
      "<th style=\"text-align: left;\">Candidate</th>\n",
      "<th style=\"text-align: left;\">Party</th>\n",
      "<th>EVM Votes </th>\n",
      "<th>Postal Votes</th>\n",
      "<th>Total Votes</th>\n",
      "<th>% of Votes</th>\n",
      "</tr>\n",
      "</thead>\n",
      "<tbody>\n",
      "<tr><td>1</td><td align=\"left\">ARVIND KUMAR SINGH</td><td align=\"left\">Bharatiya Janata Party</td><td>105837</td><td>135</td><td>105972</td><td>48</td></tr> <tr><td>2</td><td align=\"left\">AVADHESH KUMAR VERMA</td><td align=\"left\">Samajwadi Party</td><td>88807</td><td>370</td><td>89177</td><td>40.39</td></tr> <tr><td>3</td><td align=\"left\">SARVESH CHANDRA MISHRA</td><td align=\"left\">Bahujan Samaj Party</td><td>20687</td><td>55</td><td>20742</td><td>9.4</td></tr> <tr><td>4</td><td align=\"left\">RAMPAL</td><td align=\"left\">Rashtriya mahan Gantantra Party</td><td>796</td><td>0</td><td>796</td><td>0.36</td></tr> <tr><td>5</td><td align=\"left\">SWAM PRAKASH KAUSHAL</td><td align=\"left\">Netaji Subhash Chander Bose Rashtriya Azad Party</td><td>664</td><td>0</td><td>664</td><td>0.3</td></tr> <tr><td>6</td><td align=\"left\">AJIT SHUKLA</td><td align=\"left\">Independent</td><td>379</td><td>0</td><td>379</td><td>0.17</td></tr> <tr><td>7</td><td align=\"left\">ARADHANA MISHRA</td><td align=\"left\">Independent</td><td>288</td><td>0</td><td>288</td><td>0.13</td></tr> <tr><td>8</td><td align=\"left\">SMT. KANCHAN</td><td align=\"left\">Independent</td><td>573</td><td>4</td><td>577</td><td>0.26</td></tr> <tr><td>9</td><td align=\"left\">DAVESH KUMAR</td><td align=\"left\">Independent</td><td>336</td><td>1</td><td>337</td><td>0.15</td></tr> <tr><td>10</td><td align=\"left\">RASHID KHAN</td><td align=\"left\">Independent</td><td>512</td><td>0</td><td>512</td><td>0.23</td></tr> <tr><td>11</td><td align=\"left\">NOTA</td><td align=\"left\">None of the Above</td><td>1319</td><td>3</td><td>1322</td><td>0.6</td></tr>\n",
      "</tbody>\n",
      "<tfoot>\n",
      "<tr>\n",
      "<th></th>\n",
      "<th style=\"text-align: left;\">Total</th>\n",
      "<th> </th>\n",
      "<th>220198</th>\n",
      "<th>568</th>\n",
      "<th>220766</th>\n",
      "<th></th>\n",
      "</tr>\n",
      "</tfoot>\n",
      "</table>\n",
      "</div>\n",
      "</div>\n",
      "</div><!-- End of container-fluid Div -->\n",
      "</main>\n",
      "<footer class=\"footer\">\n",
      "<div class=\"foot-info\">\n",
      "<div class=\"container-fluid\">\n",
      "<div class=\"row\">\n",
      "<div class=\"col-md-6 col-12\">\n",
      "<h6 class=\"mb-1\">Download Voter helpline app to see results on mobile</h6>\n",
      "<div class=\"sm-text\">Last Updated at 08:55 am On 05/06/2024</div>\n",
      "</div>\n",
      "<div class=\"col-md-6 col-12\">\n",
      "<ul class=\"d-flex align-items-center items-end\">\n",
      "<li><a href=\"https://play.google.com/store/apps/details?id=com.eci.citizen\" target=\"_blank\"><img alt=\"\" src=\"img/icons/android.png\"/></a></li>\n",
      "<li><a href=\"https://apps.apple.com/in/app/voter-helpline/id1456535004\" target=\"_blank\"><img alt=\"\" src=\"img/icons/apple.png\"/></a></li>\n",
      "</ul>\n",
      "</div>\n",
      "</div>\n",
      "</div>\n",
      "</div>\n",
      "</footer>\n",
      "<!-- Optional JavaScript; choose one of the two! -->\n",
      "<script src=\"js/jquery-3.6.0.min.js\" type=\"text/javascript\"></script>\n",
      "<!-- Option 1: Bootstrap Bundle with Popper -->\n",
      "<script src=\"js/bootstrap.bundle.min.js\" type=\"text/javascript\"></script>\n",
      "<!-- Option 3: Custom jQuery Lab -->\n",
      "<script src=\"js/custom-jQuery.js\" type=\"text/javascript\"></script>\n",
      "<script>\r\n",
      "    $(document).ready(function () {\r\n",
      "      // Event for pushed the video\r\n",
      "      $('#roundSlider').carousel({\r\n",
      "        pause: true,\r\n",
      "        interval: false\r\n",
      "      });\r\n",
      "    });\r\n",
      "  </script>\n",
      "</body>\n",
      "</html>\n"
     ]
    }
   ],
   "source": [
    "from bs4 import BeautifulSoup\n",
    "import requests\n",
    "url = 'https://results.eci.gov.in/AcResultByeJune2024/ConstituencywiseS24136.htm'\n",
    "\n",
    "page = requests.get(url)\n",
    "\n",
    "soup = BeautifulSoup(page.text, 'html')\n",
    "print(soup)"
   ]
  },
  {
   "cell_type": "code",
   "execution_count": 2,
   "id": "c6c13772",
   "metadata": {},
   "outputs": [
    {
     "data": {
      "text/plain": [
       "<div class=\"page-title\">\n",
       "<h1>\n",
       "<div>Bye Election to Assembly Constituencies: Results June-2024 </div>\n",
       "</h1>\n",
       "<h2>Assembly Constituency <span> 136 - Dadraul<strong> (Uttar Pradesh)</strong></span> </h2>\n",
       "</div>"
      ]
     },
     "execution_count": 2,
     "metadata": {},
     "output_type": "execute_result"
    }
   ],
   "source": [
    "soup.find('div', class_='page-title')"
   ]
  },
  {
   "cell_type": "code",
   "execution_count": 3,
   "id": "8bd3e717",
   "metadata": {},
   "outputs": [
    {
     "data": {
      "text/plain": [
       "<table class=\"table table-striped table-bordered\">\n",
       "<thead>\n",
       "<tr>\n",
       "<th>S.N.</th>\n",
       "<th style=\"text-align: left;\">Candidate</th>\n",
       "<th style=\"text-align: left;\">Party</th>\n",
       "<th>EVM Votes </th>\n",
       "<th>Postal Votes</th>\n",
       "<th>Total Votes</th>\n",
       "<th>% of Votes</th>\n",
       "</tr>\n",
       "</thead>\n",
       "<tbody>\n",
       "<tr><td>1</td><td align=\"left\">ARVIND KUMAR SINGH</td><td align=\"left\">Bharatiya Janata Party</td><td>105837</td><td>135</td><td>105972</td><td>48</td></tr> <tr><td>2</td><td align=\"left\">AVADHESH KUMAR VERMA</td><td align=\"left\">Samajwadi Party</td><td>88807</td><td>370</td><td>89177</td><td>40.39</td></tr> <tr><td>3</td><td align=\"left\">SARVESH CHANDRA MISHRA</td><td align=\"left\">Bahujan Samaj Party</td><td>20687</td><td>55</td><td>20742</td><td>9.4</td></tr> <tr><td>4</td><td align=\"left\">RAMPAL</td><td align=\"left\">Rashtriya mahan Gantantra Party</td><td>796</td><td>0</td><td>796</td><td>0.36</td></tr> <tr><td>5</td><td align=\"left\">SWAM PRAKASH KAUSHAL</td><td align=\"left\">Netaji Subhash Chander Bose Rashtriya Azad Party</td><td>664</td><td>0</td><td>664</td><td>0.3</td></tr> <tr><td>6</td><td align=\"left\">AJIT SHUKLA</td><td align=\"left\">Independent</td><td>379</td><td>0</td><td>379</td><td>0.17</td></tr> <tr><td>7</td><td align=\"left\">ARADHANA MISHRA</td><td align=\"left\">Independent</td><td>288</td><td>0</td><td>288</td><td>0.13</td></tr> <tr><td>8</td><td align=\"left\">SMT. KANCHAN</td><td align=\"left\">Independent</td><td>573</td><td>4</td><td>577</td><td>0.26</td></tr> <tr><td>9</td><td align=\"left\">DAVESH KUMAR</td><td align=\"left\">Independent</td><td>336</td><td>1</td><td>337</td><td>0.15</td></tr> <tr><td>10</td><td align=\"left\">RASHID KHAN</td><td align=\"left\">Independent</td><td>512</td><td>0</td><td>512</td><td>0.23</td></tr> <tr><td>11</td><td align=\"left\">NOTA</td><td align=\"left\">None of the Above</td><td>1319</td><td>3</td><td>1322</td><td>0.6</td></tr>\n",
       "</tbody>\n",
       "<tfoot>\n",
       "<tr>\n",
       "<th></th>\n",
       "<th style=\"text-align: left;\">Total</th>\n",
       "<th> </th>\n",
       "<th>220198</th>\n",
       "<th>568</th>\n",
       "<th>220766</th>\n",
       "<th></th>\n",
       "</tr>\n",
       "</tfoot>\n",
       "</table>"
      ]
     },
     "execution_count": 3,
     "metadata": {},
     "output_type": "execute_result"
    }
   ],
   "source": [
    "soup.find('table', class_='table table-striped table-bordered')"
   ]
  },
  {
   "cell_type": "code",
   "execution_count": 4,
   "id": "bf909777",
   "metadata": {},
   "outputs": [
    {
     "data": {
      "text/plain": [
       "[<th>S.N.</th>,\n",
       " <th style=\"text-align: left;\">Candidate</th>,\n",
       " <th style=\"text-align: left;\">Party</th>,\n",
       " <th>EVM Votes </th>,\n",
       " <th>Postal Votes</th>,\n",
       " <th>Total Votes</th>,\n",
       " <th>% of Votes</th>,\n",
       " <th></th>,\n",
       " <th style=\"text-align: left;\">Total</th>,\n",
       " <th> </th>,\n",
       " <th>220198</th>,\n",
       " <th>568</th>,\n",
       " <th>220766</th>,\n",
       " <th></th>]"
      ]
     },
     "execution_count": 4,
     "metadata": {},
     "output_type": "execute_result"
    }
   ],
   "source": [
    "table_title = soup.find_all('th')\n",
    "table_title"
   ]
  },
  {
   "cell_type": "code",
   "execution_count": 5,
   "id": "1542dc79",
   "metadata": {},
   "outputs": [
    {
     "name": "stdout",
     "output_type": "stream",
     "text": [
      "['S.N0.', 'Candidate', 'Party', 'EVM Votes', 'Postal Votes', 'Total Votes', '% of Votes']\n"
     ]
    }
   ],
   "source": [
    "Full_table_title = ['S.N0.', 'Candidate', 'Party', 'EVM Votes', 'Postal Votes', 'Total Votes', '% of Votes']\n",
    "\n",
    "# Elements to remove\n",
    "unwanted_elements = ['', 'Total', '137186', '621', '137807']\n",
    "\n",
    "# Filter out unwanted elements\n",
    "filtered_titles = [title for title in Full_table_title if title not in unwanted_elements]\n",
    "\n",
    "print(filtered_titles)\n"
   ]
  },
  {
   "cell_type": "code",
   "execution_count": null,
   "id": "2802e747",
   "metadata": {},
   "outputs": [],
   "source": []
  }
 ],
 "metadata": {
  "kernelspec": {
   "display_name": "Python 3 (ipykernel)",
   "language": "python",
   "name": "python3"
  },
  "language_info": {
   "codemirror_mode": {
    "name": "ipython",
    "version": 3
   },
   "file_extension": ".py",
   "mimetype": "text/x-python",
   "name": "python",
   "nbconvert_exporter": "python",
   "pygments_lexer": "ipython3",
   "version": "3.9.12"
  }
 },
 "nbformat": 4,
 "nbformat_minor": 5
}
